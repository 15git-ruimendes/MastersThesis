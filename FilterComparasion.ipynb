{
 "cells": [
  {
   "cell_type": "markdown",
   "metadata": {},
   "source": [
    "# Filter design comparisons"
   ]
  },
  {
   "cell_type": "code",
   "execution_count": 2,
   "metadata": {},
   "outputs": [],
   "source": [
    "using CSV\n",
    "using DataFrames\n",
    "using FFTW\n",
    "using Plots,Measures\n",
    "using LaTeXStrings\n",
    "using DSP\n",
    "\n",
    "theme(:bright)\n",
    "plot_font = \"Computer Modern\"\n",
    "default(fontfamily=plot_font,linewidth=2, framestyle=:box, label=nothing, grid=false)\n",
    "scalefontsizes(1.05)"
   ]
  },
  {
   "cell_type": "code",
   "execution_count": null,
   "metadata": {},
   "outputs": [],
   "source": [
    "Butter = digitalfilter(Lowpass(0.09),Butterworth(3));\n",
    "w = range(0.1,1,25000);\n",
    "H = freqresp(Butter,w);\n",
    "w = w*13000;\n",
    "\n",
    "p1 = plot(w,abs.(H),yaxis = :log,xaxis = :log);\n",
    "p1 = plot!(ylabel = \"Magnitude (dB)\");\n",
    "p1 = plot!(title = \"Butterworth 5th order filter\");\n",
    "\n",
    "p2 = plot(w,angle.(H),xaxis = :log);\n",
    "p2 = plot!(ylabel = \"Phase (rad)\");\n",
    "p2 = plot!(xlabel = \"Frequency (Hz)\");\n",
    "\n",
    "plot(p1,p2,layout = (2,1))\n",
    "\n",
    "plot!(fmt = :pdf)"
   ]
  },
  {
   "cell_type": "code",
   "execution_count": null,
   "metadata": {},
   "outputs": [],
   "source": [
    "Cheby = digitalfilter(Lowpass(0.09),Chebyshev1(3,0.01));\n",
    "w = range(0.1,1,25000);\n",
    "H = freqresp(Cheby,w);\n",
    "w = w*13000;\n",
    "\n",
    "p1 = plot(w,abs.(H),yaxis = :log,xaxis = :log);\n",
    "p1 = plot!(ylabel = \"Magnitude (dB)\");\n",
    "p1 = plot!(title = \"Chebychev 5th order filter\");\n",
    "\n",
    "p2 = plot(w,angle.(H),xaxis = :log);\n",
    "p2 = plot!(ylabel = \"Phase (rad)\");\n",
    "p2 = plot!(xlabel = \"Frequency (Hz)\");\n",
    "\n",
    "plot(p1,p2,layout = (2,1))\n",
    "plot!(fmt = :pdf)"
   ]
  }
 ],
 "metadata": {
  "kernelspec": {
   "display_name": "Julia 1.7.2",
   "language": "julia",
   "name": "julia-1.7"
  },
  "language_info": {
   "file_extension": ".jl",
   "mimetype": "application/julia",
   "name": "julia",
   "version": "1.7.2"
  },
  "orig_nbformat": 4
 },
 "nbformat": 4,
 "nbformat_minor": 2
}
