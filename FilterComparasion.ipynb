{
 "cells": [
  {
   "cell_type": "markdown",
   "metadata": {},
   "source": [
    "# Filter design comparisons"
   ]
  },
  {
   "cell_type": "code",
   "execution_count": 1,
   "metadata": {},
   "outputs": [
    {
     "name": "stderr",
     "output_type": "stream",
     "text": [
      "\n",
      "(process:23328): GLib-GIO-WARNING **: 14:09:46.692: Unexpectedly, UWP app `draw.io.draw.ioDiagrams_18.0.6.0_x64__1zh33159kp73c' (AUMId `draw.io.draw.ioDiagrams_1zh33159kp73c!draw.io.draw.ioDiagrams') supports 2 extensions but has no verbs\n"
     ]
    }
   ],
   "source": [
    "using CSV\n",
    "using DataFrames\n",
    "using FFTW\n",
    "using Plots,Measures\n",
    "using LaTeXStrings\n",
    "using DSP\n",
    "\n",
    "theme(:bright)\n",
    "plot_font = \"Computer Modern\"\n",
    "default(fontfamily=plot_font,linewidth=2, framestyle=:box, label=nothing, grid=false)\n",
    "scalefontsizes(1.05)"
   ]
  },
  {
   "cell_type": "code",
   "execution_count": 39,
   "metadata": {},
   "outputs": [],
   "source": [
    "Butter = digitalfilter(Lowpass(0.009),Butterworth(1));\n",
    "w = range(0.001,0.5,25000);\n",
    "H = freqresp(Butter,w);\n",
    "w = w*13000;\n",
    "\n",
    "p1 = plot(w,pow2db.(abs.(H)),xaxis = :log);\n",
    "p1 = plot!(ylabel = \"Magnitude (dB)\");\n",
    "p1 = plot!(title = \"First order filter\");\n",
    "\n",
    "p2 = plot(w,unwrap(angle.(H)).*180/pi,xaxis = :log);\n",
    "p2 = plot!(ylabel = \"Phase (deg)\");\n",
    "p2 = plot!(xlabel = \"Frequency (Hz)\");\n",
    "\n",
    "plot(p1,p2,layout = (2,1))\n",
    "plot!(size = (650,400))\n",
    "plot!(fmt = :pdf)\n",
    "savefig(\"C:\\\\Users\\\\Rui Mendes\\\\Desktop\\\\Plots\\\\MastersThesis\\\\Graphs\\\\Chapter-4\\\\ButterFilter_1.pdf\")"
   ]
  },
  {
   "cell_type": "code",
   "execution_count": 46,
   "metadata": {},
   "outputs": [],
   "source": [
    "w = range(0.001,0.5,25000);\n",
    "\n",
    "Butter = digitalfilter(Lowpass(0.009),Butterworth(3));\n",
    "H = freqresp(Butter,w);\n",
    "Butter1 = digitalfilter(Lowpass(0.009),Butterworth(4));\n",
    "H1 = freqresp(Butter1,w);\n",
    "Butter2 = digitalfilter(Lowpass(0.009),Butterworth(5));\n",
    "H2 = freqresp(Butter2,w);\n",
    "\n",
    "w = w*13000;\n",
    "\n",
    "p1 = plot(w,pow2db.(abs.(H)),xaxis = :log,label=\"3\");\n",
    "p1 = plot!(w,pow2db.(abs.(H1)),xaxis = :log,label=\"4\");\n",
    "p1 = plot!(w,pow2db.(abs.(H2)),xaxis = :log,label=\"5\");\n",
    "p1 = plot!(ylabel = \"Magnitude (dB)\");\n",
    "p1 = plot!(title = \"Butterworth 3rd order filter\");\n",
    "\n",
    "p2 = plot(w,unwrap(angle.(H)).*180/pi,xaxis = :log,label = \"3\");\n",
    "p2 = plot!(w,unwrap(angle.(H1)).*180/pi,xaxis = :log,label = \"4\");\n",
    "p2 = plot!(w,unwrap(angle.(H2)).*180/pi,xaxis = :log,label = \"5\");\n",
    "p2 = plot!(ylabel = \"Phase (deg)\");\n",
    "p2 = plot!(xlabel = \"Frequency (Hz)\");\n",
    "\n",
    "plot(p1,p2,layout = (2,1))\n",
    "\n",
    "plot!(size = (650,400))\n",
    "plot!(fmt = :pdf)\n",
    "savefig(\"C:\\\\Users\\\\Rui Mendes\\\\Desktop\\\\Plots\\\\MastersThesis\\\\Graphs\\\\Chapter-4\\\\ButterFilter_3.pdf\")"
   ]
  },
  {
   "cell_type": "code",
   "execution_count": 53,
   "metadata": {},
   "outputs": [],
   "source": [
    "w = range(0.001,0.5,25000);\n",
    "\n",
    "Cheby = digitalfilter(Lowpass(0.009),Chebyshev1(3,0.01));\n",
    "Cheby1 = digitalfilter(Lowpass(0.009),Chebyshev1(4,0.01));\n",
    "Cheby2 = digitalfilter(Lowpass(0.009),Chebyshev1(5,0.01));\n",
    "\n",
    "H = freqresp(Cheby,w);\n",
    "H1 = freqresp(Cheby1,w);\n",
    "H2 = freqresp(Cheby2,w);\n",
    "w = w*13000;\n",
    "\n",
    "p1 = plot(w,pow2db.(abs.(H)),xaxis = :log,label = \"3\");\n",
    "p1 = plot!(w,pow2db.(abs.(H1)),xaxis = :log,label = \"4\");\n",
    "p1 = plot!(w,pow2db.(abs.(H2)),xaxis = :log,label = \"5\");\n",
    "p1 = plot!(ylabel = \"Magnitude (dB)\");\n",
    "p1 = plot!(title = \"Chebychev 3th order filter\");\n",
    "\n",
    "p2 = plot(w,unwrap(angle.(H)).*180/pi,xaxis = :log,label = \"3\");\n",
    "p2 = plot!(w,unwrap(angle.(H1)).*180/pi,xaxis = :log,label = \"4\");\n",
    "p2 = plot!(w,unwrap(angle.(H2)).*180/pi,xaxis = :log,label = \"5\");\n",
    "p2 = plot!(ylabel = \"Phase (deg)\");\n",
    "p2 = plot!(xlabel = \"Frequency (Hz)\");\n",
    "plot(p1,p2,layout = (2,1))\n",
    "\n",
    "plot!(size = (650,400))\n",
    "plot!(fmt = :pdf)\n",
    "savefig(\"C:\\\\Users\\\\Rui Mendes\\\\Desktop\\\\Plots\\\\MastersThesis\\\\Graphs\\\\Chapter-4\\\\ChebyFilter_3.pdf\")"
   ]
  },
  {
   "cell_type": "code",
   "execution_count": null,
   "metadata": {},
   "outputs": [],
   "source": [
    "w = range(0.001,0.5,25000);\n",
    "\n",
    "Cheby = digitalfilter(Lowpass(0.009),Chebyshev2(3,0.01));\n",
    "Cheby1 = digitalfilter(Lowpass(0.009),Chebyshev2(4,0.01));\n",
    "Cheby2 = digitalfilter(Lowpass(0.009),Chebyshev2(5,0.01));\n",
    "\n",
    "H = freqresp(Cheby,w);\n",
    "H1 = freqresp(Cheby1,w);\n",
    "H2 = freqresp(Cheby2,w);\n",
    "w = w*13000;\n",
    "\n",
    "p1 = plot(w,pow2db.(abs.(H)),xaxis = :log,label = \"3\");\n",
    "p1 = plot!(w,pow2db.(abs.(H1)),xaxis = :log,label = \"4\");\n",
    "p1 = plot!(w,pow2db.(abs.(H2)),xaxis = :log,label = \"5\");\n",
    "p1 = plot!(ylabel = \"Magnitude (dB)\");\n",
    "p1 = plot!(title = \"Chebychev 3th order filter\");\n",
    "\n",
    "p2 = plot(w,unwrap(angle.(H)).*180/pi,xaxis = :log,label = \"3\");\n",
    "p2 = plot!(w,unwrap(angle.(H1)).*180/pi,xaxis = :log,label = \"4\");\n",
    "p2 = plot!(w,unwrap(angle.(H2)).*180/pi,xaxis = :log,label = \"5\");\n",
    "p2 = plot!(ylabel = \"Phase (deg)\");\n",
    "p2 = plot!(xlabel = \"Frequency (Hz)\");\n",
    "plot(p1,p2,layout = (2,1))\n",
    "\n",
    "plot!(size = (650,400))\n",
    "plot!(fmt = :pdf)\n",
    "savefig(\"C:\\\\Users\\\\Rui Mendes\\\\Desktop\\\\Plots\\\\MastersThesis\\\\Graphs\\\\Chapter-4\\\\ChebyFilter_3.pdf\")"
   ]
  }
 ],
 "metadata": {
  "kernelspec": {
   "display_name": "Julia 1.7.2",
   "language": "julia",
   "name": "julia-1.7"
  },
  "language_info": {
   "file_extension": ".jl",
   "mimetype": "application/julia",
   "name": "julia",
   "version": "1.7.2"
  },
  "orig_nbformat": 4
 },
 "nbformat": 4,
 "nbformat_minor": 2
}
