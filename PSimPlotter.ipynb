{
 "cells": [
  {
   "cell_type": "markdown",
   "metadata": {},
   "source": [
    "# PSim Plotter\n",
    "## Including FFT and other DSP functions"
   ]
  },
  {
   "cell_type": "code",
   "execution_count": 1,
   "metadata": {},
   "outputs": [
    {
     "name": "stderr",
     "output_type": "stream",
     "text": [
      "\n",
      "(process:14664): GLib-GIO-WARNING **: 15:46:39.837: Unexpectedly, UWP app `draw.io.draw.ioDiagrams_18.0.6.0_x64__1zh33159kp73c' (AUMId `draw.io.draw.ioDiagrams_1zh33159kp73c!draw.io.draw.ioDiagrams') supports 2 extensions but has no verbs\n"
     ]
    }
   ],
   "source": [
    "using CSV\n",
    "using DataFrames\n",
    "using FFTW\n",
    "using Plots,Measures\n",
    "using LaTeXStrings\n",
    "\n",
    "theme(:bright)\n",
    "plot_font = \"Computer Modern\"\n",
    "default(fontfamily=plot_font,linewidth=2, framestyle=:box, label=nothing, grid=false)\n",
    "scalefontsizes(1.05)\n",
    "\n",
    "\n",
    "FileName = \"C:\\\\Users\\\\Rui Mendes\\\\Desktop\\\\Plots\\\\NominalRun_AllData.csv\";"
   ]
  },
  {
   "cell_type": "code",
   "execution_count": 2,
   "metadata": {},
   "outputs": [
    {
     "data": {
      "text/plain": [
       "46-element Vector{String}:\n",
       " \"Time\"\n",
       " \"IqRef\"\n",
       " \"Ia\"\n",
       " \"Ib\"\n",
       " \"Ic\"\n",
       " \"RPM\"\n",
       " \"RPM_REF1\"\n",
       " \"IDC\"\n",
       " \"Theta\"\n",
       " \"QRef\"\n",
       " ⋮\n",
       " \"V119\"\n",
       " \"IdRef\"\n",
       " \"AngleEstim\"\n",
       " \"Flux\"\n",
       " \"V123\"\n",
       " \"V124\"\n",
       " \"Va\"\n",
       " \"Vb\"\n",
       " \"Tem_M1\""
      ]
     },
     "metadata": {},
     "output_type": "display_data"
    }
   ],
   "source": [
    "Data = DataFrame(CSV.File(FileName,header = 1, delim = \",\"));\n",
    "names(Data)"
   ]
  },
  {
   "cell_type": "code",
   "execution_count": 3,
   "metadata": {},
   "outputs": [],
   "source": [
    "Time = Data.\"Time\";\n",
    "\n",
    "IdRef = Data.\"IdRef\";\n",
    "Id = Data.\"Id\";\n",
    "IqRef = Data.\"IqRef\";\n",
    "Iq = Data.\"Iq\";\n",
    "\n",
    "p1 = plot(Time,Id, label = \"Id\");\n",
    "p1 = plot!(Time,IdRef,label = \"Id Reference\");\n",
    "p1 = plot!(ylabel = \"Currents (A)\");\n",
    "\n",
    "p2 = plot(Time,Iq, label = \"Iq\");\n",
    "p2 = plot!(Time,IqRef, label = \"Iq Reference\");\n",
    "p2 = plot!(xlabel = \"Time (s)\");\n",
    "p2 = plot!(ylabel = \"Currents (A)\");\n",
    "\n",
    "p3 = plot(Time,Data.RPM, label = \"Speed\");\n",
    "p3 = plot!(Time,Data.RPM_REF1, label = \"Speed Reference\");\n",
    "p3 = plot!(ylabel = \"Speed (RPM)\");\n",
    "\n",
    "p4 = plot(Time,Data.Tem_M1, label = \"Generated Torque\");\n",
    "p4 = plot!(xlabel = \"Time (s)\");\n",
    "p4 = plot!(ylabel = \"Torque (Nm)\");\n",
    "\n",
    "plot(title = \"Inertial load, step-reference simulation results\",size = (700,390))\n",
    "plot!(fmt = :pdf)\n",
    "plot!(p1,p3,p2,p4,layout = (2,2))"
   ]
  },
  {
   "cell_type": "code",
   "execution_count": null,
   "metadata": {},
   "outputs": [],
   "source": []
  }
 ],
 "metadata": {
  "kernelspec": {
   "display_name": "Julia 1.7.2",
   "language": "julia",
   "name": "julia-1.7"
  },
  "language_info": {
   "file_extension": ".jl",
   "mimetype": "application/julia",
   "name": "julia",
   "version": "1.7.2"
  },
  "orig_nbformat": 4
 },
 "nbformat": 4,
 "nbformat_minor": 2
}
