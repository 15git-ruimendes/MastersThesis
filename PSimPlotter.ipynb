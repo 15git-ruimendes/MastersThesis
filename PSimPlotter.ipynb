{
 "cells": [
  {
   "cell_type": "markdown",
   "metadata": {},
   "source": [
    "# PSim Plotter\n",
    "## Including FFT and other DSP functions"
   ]
  },
  {
   "cell_type": "code",
   "execution_count": 1,
   "metadata": {},
   "outputs": [
    {
     "name": "stderr",
     "output_type": "stream",
     "text": [
      "\n",
      "(process:14664): GLib-GIO-WARNING **: 15:46:39.837: Unexpectedly, UWP app `draw.io.draw.ioDiagrams_18.0.6.0_x64__1zh33159kp73c' (AUMId `draw.io.draw.ioDiagrams_1zh33159kp73c!draw.io.draw.ioDiagrams') supports 2 extensions but has no verbs\n"
     ]
    }
   ],
   "source": [
    "using CSV\n",
    "using DataFrames\n",
    "using FFTW\n",
    "using Plots,Measures\n",
    "using LaTeXStrings\n",
    "\n",
    "theme(:bright)\n",
    "plot_font = \"Computer Modern\"\n",
    "default(fontfamily=plot_font,linewidth=2, framestyle=:box, label=nothing, grid=false)\n",
    "scalefontsizes(1.05)\n",
    "\n",
    "\n",
    "FileName = \"C:\\\\Users\\\\Rui Mendes\\\\Desktop\\\\Plots\\\\NominalRun_AllData.csv\";"
   ]
  },
  {
   "cell_type": "code",
   "execution_count": 2,
   "metadata": {},
   "outputs": [
    {
     "data": {
      "text/plain": [
       "46-element Vector{String}:\n",
       " \"Time\"\n",
       " \"IqRef\"\n",
       " \"Ia\"\n",
       " \"Ib\"\n",
       " \"Ic\"\n",
       " \"RPM\"\n",
       " \"RPM_REF1\"\n",
       " \"IDC\"\n",
       " \"Theta\"\n",
       " \"QRef\"\n",
       " ⋮\n",
       " \"V119\"\n",
       " \"IdRef\"\n",
       " \"AngleEstim\"\n",
       " \"Flux\"\n",
       " \"V123\"\n",
       " \"V124\"\n",
       " \"Va\"\n",
       " \"Vb\"\n",
       " \"Tem_M1\""
      ]
     },
     "metadata": {},
     "output_type": "display_data"
    }
   ],
   "source": [
    "Data = DataFrame(CSV.File(FileName,header = 1, delim = \",\"));\n",
    "names(Data)"
   ]
  },
  {
   "cell_type": "code",
   "execution_count": 3,
   "metadata": {},
   "outputs": [],
   "source": [
    "Time = Data.\"Time\";\n",
    "\n",
    "IdRef = Data.\"IdRef\";\n",
    "Id = Data.\"Id\";\n",
    "IqRef = Data.\"IqRef\";\n",
    "Iq = Data.\"Iq\";\n",
    "\n",
    "p1 = plot(Time[1:1000:length(Time)],Id[1:1000:length(Time)], label = \"Id\");\n",
    "p1 = plot!(Time[1:1000:length(Time)],IdRef[1:1000:length(Time)],label = \"Id Reference\");\n",
    "p1 = plot!(ylabel = \"Currents (A)\");\n",
    "p1 = plot!(title = \"Current Response Discrete Controller\");\n",
    "\n",
    "p2 = plot(Time[1:1000:length(Time)],Iq[1:1000:length(Time)], label = \"Iq\");\n",
    "p2 = plot!(Time[1:1000:length(Time)],IqRef[1:1000:length(Time)], label = \"Iq Reference\");\n",
    "p2 = plot!(ylabel = \"Currents (A)\");\n",
    "p2 = plot!(xlabel = \"Time (s)\");\n",
    "\n",
    "p3 = plot(Time[1:1000:length(Time)],Data.RPM_REF1[1:1000:length(Time)], label = \"Speed Reference\");\n",
    "p3 = plot!(Time[1:1000:length(Time)],Data.RPM[1:1000:length(Time)], label = \"Speed\");\n",
    "p3 = plot!(title = \"Speed and Torque Response Discrete Controller\");\n",
    "p3 = plot!(ylabel = \"Speed (RPM)\");\n",
    "\n",
    "p4 = plot(Time[1:1000:length(Time)],Data.Tem_M1[1:1000:length(Time)], label = \"Generated Torque\");\n",
    "p4 = plot!(ylabel = \"Torque (Nm)\");\n",
    "p4 = plot!(xlabel = \"Time (s)\");\n",
    "\n",
    "p5 = plot(Time[1:1000:length(Time)],(Data.IDC[1:1000:length(Time)]), label = \"DC bus current\");\n",
    "p5 = plot!(title = \"Average DC Bus Current\");\n",
    "p5 = plot!(xlabel = \"Time (s)\");\n",
    "p5 = plot!(ylabel = \"Current (A)\");\n",
    "\n",
    "plot(size = (700,390))\n",
    "plot!(fmt = :pdf)\n",
    "plot!(p1,p3,p2,p4,layout = (5,1))"
   ]
  },
  {
   "cell_type": "code",
   "execution_count": null,
   "metadata": {},
   "outputs": [],
   "source": [
    "Time = Data.\"Time\";\n",
    "\n",
    "IdRef = Data.\"IdRef\";\n",
    "Id = Data.\"Id\";\n",
    "IqRef = Data.\"IqRef\";\n",
    "Iq = Data.\"Iq\";\n",
    "\n",
    "p1 = plot(Time,Id, label = \"Id\");\n",
    "p1 = plot!(Time,IdRef,label = \"Id Reference\");\n",
    "p1 = plot!(ylabel = \"Currents (A)\");\n",
    "p1 = plot!(title = \"Current Response With Field Weakening\");\n",
    "\n",
    "p2 = plot(Time,Iq, label = \"Iq\");\n",
    "p2 = plot!(Time,IqRef, label = \"Iq Reference\");\n",
    "p2 = plot!(ylabel = \"Currents (A)\");\n",
    "p2 = plot!(xlabel = \"Time (s)\");\n",
    "\n",
    "p3 = plot(Time,Data.V8, label = \"Speed Reference\");\n",
    "p3 = plot!(Time,Data.RPM, label = \"Speed\");\n",
    "p3 = plot!(title = \"Speed and Torque Response With Field Weakening\");\n",
    "p3 = plot!(ylabel = \"Speed (RPM)\");\n",
    "\n",
    "p4 = plot(Time,Data.Tem_M1, label = \"Generated Torque\");\n",
    "p4 = plot!(ylabel = \"Torque (Nm)\");\n",
    "p4 = plot!(xlabel = \"Time (s)\");\n",
    "\n",
    "p5 = plot(Time,Data.Flux, label = \"Generated Flux\");\n",
    "p5 = plot!(title = \"Flux Response With Field Weakening\");\n",
    "p5 = plot!(xlabel = \"Time (s)\");\n",
    "p5 = plot!(ylabel = \"Flux (Wb)\");\n",
    "\n",
    "plot(size = (700,390))\n",
    "plot!(fmt = :pdf)\n",
    "plot!(p1,p3,p2,p4,layout = (5,1))"
   ]
  },
  {
   "cell_type": "code",
   "execution_count": null,
   "metadata": {},
   "outputs": [],
   "source": [
    "Time = Data.\"Time\";\n",
    "\n",
    "StatorId = Data.\"StatorId\";\n",
    "StatorIq = Data.\"StatorIq\";\n",
    "\n",
    "Stator2Id = Data.\"StatorId2\";\n",
    "Stator2Iq = Data.\"StatorIq2\";\n",
    "\n",
    "RotorId = Data.\"RotorId\";\n",
    "RotorIq = Data.\"RotorIq\";\n",
    "\n",
    "RotorAngle = Data.\"RotorAngle\";\n",
    "StatorAngle = Data.\"StatorAngle\";\n",
    "StatorAngle2 = Data.\"StatorAngle2\";\n",
    "\n",
    "RPM = Data.\"RPM\";\n",
    "\n",
    "p1 = plot(Time,RotorId, label = L\"Rotor I_d\");\n",
    "p1 = plot!(Time,StatorId,label = L\"Stator (non-modified)  I_d\");\n",
    "p1 = plot!(Time,Stator2Id,label = L\"Stator (modified)  I_d\");\n",
    "p1 = plot!(ylabel = \"Currents (A)\");\n",
    "p1 = plot!(xlabel = \"Time(s)\");\n",
    "p1 = plot!(title = \"D current obtained\");\n",
    "\n",
    "p2 = plot(Time,RotorIq, label = \"Rotor I_q\");\n",
    "p2 = plot!(Time,StatorIq,label = \"Stator (non modified) I_q\");\n",
    "p2 = plot!(Time,Stator2Iq,label = \"Stator (modified) I_q\");\n",
    "p2 = plot!(ylabel = \"Currents (A)\");\n",
    "p2 = plot!(xlabel = \"Time(s)\");\n",
    "p2 = plot!(title = \"Q current obtained\");\n",
    "\n",
    "p3 = plot(Time,RotorAngle, label = \"Rotor Angle\");\n",
    "p3 = plot!(Time,StatorAngle,label = \"Stator (non modified) Angle\");\n",
    "p3 = plot!(Time,StatorAngle2,label = \"Stator (modified) Angle\");\n",
    "p3 = plot!(ylabel = \"Angle (rad)\");\n",
    "p3 = plot!(title = \"Calulated Angle\");\n",
    "\n",
    "p4 = plot(Time,RPM,label = \"Speed\");\n",
    "p4 = plot!(ylabel = \"Rotor Speed (rpm)\");\n",
    "p4 = plot!(xlabel = \"Time (s)\");\n",
    "\n",
    "\n",
    "plot(size = (700,390))\n",
    "plot!(xlim = (0,0.5))\n",
    "plot!(fmt = :pdf)\n",
    "plot!(p1,p3,p2,p4,layout = (5,1))"
   ]
  }
 ],
 "metadata": {
  "kernelspec": {
   "display_name": "Julia 1.7.2",
   "language": "julia",
   "name": "julia-1.7"
  },
  "language_info": {
   "file_extension": ".jl",
   "mimetype": "application/julia",
   "name": "julia",
   "version": "1.7.2"
  },
  "orig_nbformat": 4
 },
 "nbformat": 4,
 "nbformat_minor": 2
}
