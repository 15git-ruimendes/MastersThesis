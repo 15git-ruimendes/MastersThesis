{
 "cells": [
  {
   "cell_type": "markdown",
   "metadata": {},
   "source": [
    "# PSim Plotter\n",
    "## Including FFT and other DSP functions"
   ]
  },
  {
   "cell_type": "code",
   "execution_count": 2,
   "metadata": {},
   "outputs": [
    {
     "name": "stderr",
     "output_type": "stream",
     "text": [
      "\n",
      "(process:17796): GLib-GIO-WARNING **: 00:40:08.346: Unexpectedly, UWP app `draw.io.draw.ioDiagrams_18.0.6.0_x64__1zh33159kp73c' (AUMId `draw.io.draw.ioDiagrams_1zh33159kp73c!draw.io.draw.ioDiagrams') supports 2 extensions but has no verbs\n"
     ]
    }
   ],
   "source": [
    "using CSV\n",
    "using DataFrames\n",
    "using FFTW\n",
    "using Plots,Measures\n",
    "using LaTeXStrings\n",
    "\n",
    "theme(:bright)\n",
    "plot_font = \"Computer Modern\"\n",
    "default(fontfamily=plot_font,linewidth=2, framestyle=:box, label=nothing, grid=false)\n",
    "scalefontsizes(1.3)\n",
    "\n",
    "\n",
    "FileName = \"C:\\\\Users\\\\Rui Mendes\\\\Desktop\\\\MastersThesis\\\\Results\\\\SimulationResults\\\\NewMotorNominalRun.csv\";"
   ]
  },
  {
   "cell_type": "code",
   "execution_count": 3,
   "metadata": {},
   "outputs": [
    {
     "data": {
      "text/plain": [
       "46-element Vector{String}:\n",
       " \"Time\"\n",
       " \"IqRef\"\n",
       " \"Ia\"\n",
       " \"Ib\"\n",
       " \"Ic\"\n",
       " \"RPM\"\n",
       " \"RPM_REF1\"\n",
       " \"IDC\"\n",
       " \"Theta\"\n",
       " \"QRef\"\n",
       " ⋮\n",
       " \"V119\"\n",
       " \"IdRef\"\n",
       " \"AngleEstim\"\n",
       " \"Flux\"\n",
       " \"V123\"\n",
       " \"V124\"\n",
       " \"Va\"\n",
       " \"Vb\"\n",
       " \"Tem_M1\""
      ]
     },
     "metadata": {},
     "output_type": "display_data"
    }
   ],
   "source": [
    "Data = DataFrame(CSV.File(FileName,header = 1, delim = \",\"));\n",
    "names(Data)"
   ]
  },
  {
   "cell_type": "code",
   "execution_count": 4,
   "metadata": {},
   "outputs": [],
   "source": [
    "Time = Data.\"Time\";\n",
    "\n",
    "IdRef = Data.\"IdRef\";\n",
    "Id = Data.\"Id\";\n",
    "IqRef = Data.\"IqRef\";\n",
    "Iq = Data.\"Iq\";\n",
    "\n",
    "p1 = plot(xlims = (0,40));\n",
    "p1 = plot!(Time,Id, label = \"Id\");\n",
    "p1 = plot!(Time,IdRef,label = \"Id Reference\");\n",
    "p1 = plot!(title = \"DQ currents and corresponding references\");\n",
    "p1 = plot!(ylabel = \"Currents (A)\");\n",
    "\n",
    "p2 = plot(xlims = (0,40));\n",
    "p2 = plot!(Time,Iq, label = \"Iq\");\n",
    "p2 = plot!(Time,IqRef, label = \"Iq Reference\");\n",
    "p2 = plot!(xlabel = \"Time (s)\");\n",
    "p2 = plot!(ylabel = \"Currents (A)\");\n",
    "\n",
    "plot(p1,p2,layout = (2,1))"
   ]
  }
 ],
 "metadata": {
  "kernelspec": {
   "display_name": "Julia 1.7.2",
   "language": "julia",
   "name": "julia-1.7"
  },
  "language_info": {
   "file_extension": ".jl",
   "mimetype": "application/julia",
   "name": "julia",
   "version": "1.7.2"
  },
  "orig_nbformat": 4
 },
 "nbformat": 4,
 "nbformat_minor": 2
}
